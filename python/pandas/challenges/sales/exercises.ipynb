{
 "cells": [
  {
   "cell_type": "code",
   "execution_count": 149,
   "metadata": {},
   "outputs": [],
   "source": [
    "import pandas as pd # type: ignore"
   ]
  },
  {
   "cell_type": "markdown",
   "metadata": {},
   "source": [
    "### Ejercicio 1: Carga y Exploración del Dataset ✅"
   ]
  },
  {
   "cell_type": "markdown",
   "metadata": {},
   "source": [
    "- Carga el dataset en un DataFrame."
   ]
  },
  {
   "cell_type": "code",
   "execution_count": 150,
   "metadata": {},
   "outputs": [],
   "source": [
    "df = pd.read_csv('sales.csv')"
   ]
  },
  {
   "cell_type": "markdown",
   "metadata": {},
   "source": [
    "- Muestra las primeras 2 filas del dataset."
   ]
  },
  {
   "cell_type": "code",
   "execution_count": 151,
   "metadata": {},
   "outputs": [
    {
     "data": {
      "text/html": [
       "<div>\n",
       "<style scoped>\n",
       "    .dataframe tbody tr th:only-of-type {\n",
       "        vertical-align: middle;\n",
       "    }\n",
       "\n",
       "    .dataframe tbody tr th {\n",
       "        vertical-align: top;\n",
       "    }\n",
       "\n",
       "    .dataframe thead th {\n",
       "        text-align: right;\n",
       "    }\n",
       "</style>\n",
       "<table border=\"1\" class=\"dataframe\">\n",
       "  <thead>\n",
       "    <tr style=\"text-align: right;\">\n",
       "      <th></th>\n",
       "      <th>Unnamed: 0</th>\n",
       "      <th>fecha</th>\n",
       "      <th>producto</th>\n",
       "      <th>categoria</th>\n",
       "      <th>precio</th>\n",
       "      <th>cantidad</th>\n",
       "      <th>vendedor</th>\n",
       "      <th>ciudad</th>\n",
       "      <th>rating</th>\n",
       "      <th>comentarios</th>\n",
       "    </tr>\n",
       "  </thead>\n",
       "  <tbody>\n",
       "    <tr>\n",
       "      <th>0</th>\n",
       "      <td>0</td>\n",
       "      <td>NaN</td>\n",
       "      <td>Auriculares</td>\n",
       "      <td>ELECTRONICA</td>\n",
       "      <td>672.699356</td>\n",
       "      <td>-5.0</td>\n",
       "      <td>Juan</td>\n",
       "      <td>BARCELONA</td>\n",
       "      <td>0.381071</td>\n",
       "      <td>Malo</td>\n",
       "    </tr>\n",
       "    <tr>\n",
       "      <th>1</th>\n",
       "      <td>1</td>\n",
       "      <td>2023-02-05 20:00:00</td>\n",
       "      <td>Monitor</td>\n",
       "      <td>Electrónica</td>\n",
       "      <td>325.415637</td>\n",
       "      <td>10.0</td>\n",
       "      <td>JUAN</td>\n",
       "      <td>Madrid</td>\n",
       "      <td>0.220931</td>\n",
       "      <td>NaN</td>\n",
       "    </tr>\n",
       "  </tbody>\n",
       "</table>\n",
       "</div>"
      ],
      "text/plain": [
       "   Unnamed: 0                fecha     producto    categoria      precio  \\\n",
       "0           0                  NaN  Auriculares  ELECTRONICA  672.699356   \n",
       "1           1  2023-02-05 20:00:00      Monitor  Electrónica  325.415637   \n",
       "\n",
       "   cantidad vendedor     ciudad    rating comentarios  \n",
       "0      -5.0     Juan  BARCELONA  0.381071        Malo  \n",
       "1      10.0     JUAN     Madrid  0.220931         NaN  "
      ]
     },
     "execution_count": 151,
     "metadata": {},
     "output_type": "execute_result"
    }
   ],
   "source": [
    "df.head(2)"
   ]
  },
  {
   "cell_type": "markdown",
   "metadata": {},
   "source": [
    "- Identifica el número de filas y columnas."
   ]
  },
  {
   "cell_type": "code",
   "execution_count": 152,
   "metadata": {},
   "outputs": [
    {
     "data": {
      "text/plain": [
       "(100, 10)"
      ]
     },
     "execution_count": 152,
     "metadata": {},
     "output_type": "execute_result"
    }
   ],
   "source": [
    "df.shape"
   ]
  },
  {
   "cell_type": "markdown",
   "metadata": {},
   "source": [
    "- Observa los tipos de datos en cada columna."
   ]
  },
  {
   "cell_type": "code",
   "execution_count": 153,
   "metadata": {},
   "outputs": [
    {
     "data": {
      "text/plain": [
       "Unnamed: 0       int64\n",
       "fecha           object\n",
       "producto        object\n",
       "categoria       object\n",
       "precio         float64\n",
       "cantidad       float64\n",
       "vendedor        object\n",
       "ciudad          object\n",
       "rating         float64\n",
       "comentarios     object\n",
       "dtype: object"
      ]
     },
     "execution_count": 153,
     "metadata": {},
     "output_type": "execute_result"
    }
   ],
   "source": [
    "df.dtypes"
   ]
  },
  {
   "cell_type": "markdown",
   "metadata": {},
   "source": [
    "### Ejercicio 2: Resumen Estadístico ✅"
   ]
  },
  {
   "cell_type": "markdown",
   "metadata": {},
   "source": [
    "- Obtén un resumen estadístico de las columnas numéricas."
   ]
  },
  {
   "cell_type": "code",
   "execution_count": 154,
   "metadata": {},
   "outputs": [
    {
     "data": {
      "text/html": [
       "<div>\n",
       "<style scoped>\n",
       "    .dataframe tbody tr th:only-of-type {\n",
       "        vertical-align: middle;\n",
       "    }\n",
       "\n",
       "    .dataframe tbody tr th {\n",
       "        vertical-align: top;\n",
       "    }\n",
       "\n",
       "    .dataframe thead th {\n",
       "        text-align: right;\n",
       "    }\n",
       "</style>\n",
       "<table border=\"1\" class=\"dataframe\">\n",
       "  <thead>\n",
       "    <tr style=\"text-align: right;\">\n",
       "      <th></th>\n",
       "      <th>Unnamed: 0</th>\n",
       "      <th>precio</th>\n",
       "      <th>cantidad</th>\n",
       "      <th>rating</th>\n",
       "    </tr>\n",
       "  </thead>\n",
       "  <tbody>\n",
       "    <tr>\n",
       "      <th>count</th>\n",
       "      <td>100.000000</td>\n",
       "      <td>90.000000</td>\n",
       "      <td>92.000000</td>\n",
       "      <td>97.000000</td>\n",
       "    </tr>\n",
       "    <tr>\n",
       "      <th>mean</th>\n",
       "      <td>49.500000</td>\n",
       "      <td>516.470981</td>\n",
       "      <td>21.565217</td>\n",
       "      <td>2.933186</td>\n",
       "    </tr>\n",
       "    <tr>\n",
       "      <th>std</th>\n",
       "      <td>29.011492</td>\n",
       "      <td>255.015245</td>\n",
       "      <td>16.100170</td>\n",
       "      <td>1.668733</td>\n",
       "    </tr>\n",
       "    <tr>\n",
       "      <th>min</th>\n",
       "      <td>0.000000</td>\n",
       "      <td>104.666376</td>\n",
       "      <td>-5.000000</td>\n",
       "      <td>0.015570</td>\n",
       "    </tr>\n",
       "    <tr>\n",
       "      <th>25%</th>\n",
       "      <td>24.750000</td>\n",
       "      <td>325.273578</td>\n",
       "      <td>6.750000</td>\n",
       "      <td>1.612035</td>\n",
       "    </tr>\n",
       "    <tr>\n",
       "      <th>50%</th>\n",
       "      <td>49.500000</td>\n",
       "      <td>487.825846</td>\n",
       "      <td>23.000000</td>\n",
       "      <td>3.091416</td>\n",
       "    </tr>\n",
       "    <tr>\n",
       "      <th>75%</th>\n",
       "      <td>74.250000</td>\n",
       "      <td>715.744724</td>\n",
       "      <td>33.000000</td>\n",
       "      <td>4.186005</td>\n",
       "    </tr>\n",
       "    <tr>\n",
       "      <th>max</th>\n",
       "      <td>99.000000</td>\n",
       "      <td>995.095460</td>\n",
       "      <td>49.000000</td>\n",
       "      <td>5.882776</td>\n",
       "    </tr>\n",
       "  </tbody>\n",
       "</table>\n",
       "</div>"
      ],
      "text/plain": [
       "       Unnamed: 0      precio   cantidad     rating\n",
       "count  100.000000   90.000000  92.000000  97.000000\n",
       "mean    49.500000  516.470981  21.565217   2.933186\n",
       "std     29.011492  255.015245  16.100170   1.668733\n",
       "min      0.000000  104.666376  -5.000000   0.015570\n",
       "25%     24.750000  325.273578   6.750000   1.612035\n",
       "50%     49.500000  487.825846  23.000000   3.091416\n",
       "75%     74.250000  715.744724  33.000000   4.186005\n",
       "max     99.000000  995.095460  49.000000   5.882776"
      ]
     },
     "execution_count": 154,
     "metadata": {},
     "output_type": "execute_result"
    }
   ],
   "source": [
    "df.describe()"
   ]
  },
  {
   "cell_type": "markdown",
   "metadata": {},
   "source": [
    "- Genera un resumen estadístico solo para las columnas categóricas."
   ]
  },
  {
   "cell_type": "code",
   "execution_count": 155,
   "metadata": {},
   "outputs": [
    {
     "data": {
      "text/html": [
       "<div>\n",
       "<style scoped>\n",
       "    .dataframe tbody tr th:only-of-type {\n",
       "        vertical-align: middle;\n",
       "    }\n",
       "\n",
       "    .dataframe tbody tr th {\n",
       "        vertical-align: top;\n",
       "    }\n",
       "\n",
       "    .dataframe thead th {\n",
       "        text-align: right;\n",
       "    }\n",
       "</style>\n",
       "<table border=\"1\" class=\"dataframe\">\n",
       "  <thead>\n",
       "    <tr style=\"text-align: right;\">\n",
       "      <th></th>\n",
       "      <th>fecha</th>\n",
       "      <th>producto</th>\n",
       "      <th>categoria</th>\n",
       "      <th>vendedor</th>\n",
       "      <th>ciudad</th>\n",
       "      <th>comentarios</th>\n",
       "    </tr>\n",
       "  </thead>\n",
       "  <tbody>\n",
       "    <tr>\n",
       "      <th>count</th>\n",
       "      <td>95</td>\n",
       "      <td>86</td>\n",
       "      <td>77</td>\n",
       "      <td>88</td>\n",
       "      <td>86</td>\n",
       "      <td>70</td>\n",
       "    </tr>\n",
       "    <tr>\n",
       "      <th>unique</th>\n",
       "      <td>95</td>\n",
       "      <td>7</td>\n",
       "      <td>4</td>\n",
       "      <td>9</td>\n",
       "      <td>5</td>\n",
       "      <td>5</td>\n",
       "    </tr>\n",
       "    <tr>\n",
       "      <th>top</th>\n",
       "      <td>2023-02-05 20:00:00</td>\n",
       "      <td>laptop</td>\n",
       "      <td>Electrónica</td>\n",
       "      <td>Ana</td>\n",
       "      <td>BARCELONA</td>\n",
       "      <td></td>\n",
       "    </tr>\n",
       "    <tr>\n",
       "      <th>freq</th>\n",
       "      <td>1</td>\n",
       "      <td>16</td>\n",
       "      <td>28</td>\n",
       "      <td>13</td>\n",
       "      <td>22</td>\n",
       "      <td>17</td>\n",
       "    </tr>\n",
       "  </tbody>\n",
       "</table>\n",
       "</div>"
      ],
      "text/plain": [
       "                      fecha producto    categoria  vendedor     ciudad  \\\n",
       "count                    95       86           77        88         86   \n",
       "unique                   95        7            4         9          5   \n",
       "top     2023-02-05 20:00:00   laptop  Electrónica     Ana    BARCELONA   \n",
       "freq                      1       16           28        13         22   \n",
       "\n",
       "       comentarios  \n",
       "count           70  \n",
       "unique           5  \n",
       "top                 \n",
       "freq            17  "
      ]
     },
     "execution_count": 155,
     "metadata": {},
     "output_type": "execute_result"
    }
   ],
   "source": [
    "df.describe(include='object')"
   ]
  },
  {
   "cell_type": "markdown",
   "metadata": {},
   "source": [
    "### Ejercicio 3: Manejo de Datos Faltantes ✅"
   ]
  },
  {
   "cell_type": "markdown",
   "metadata": {},
   "source": [
    "- Cuenta el número de valores faltantes en cada columna."
   ]
  },
  {
   "cell_type": "code",
   "execution_count": 156,
   "metadata": {},
   "outputs": [
    {
     "data": {
      "text/plain": [
       "Unnamed: 0      0\n",
       "fecha           5\n",
       "producto       14\n",
       "categoria      23\n",
       "precio         10\n",
       "cantidad        8\n",
       "vendedor       12\n",
       "ciudad         14\n",
       "rating          3\n",
       "comentarios    30\n",
       "dtype: int64"
      ]
     },
     "execution_count": 156,
     "metadata": {},
     "output_type": "execute_result"
    }
   ],
   "source": [
    "df.isnull().sum()"
   ]
  },
  {
   "cell_type": "markdown",
   "metadata": {},
   "source": [
    "- Rellena los valores faltantes en la columna `cantidad` con la mediana."
   ]
  },
  {
   "cell_type": "code",
   "execution_count": 157,
   "metadata": {},
   "outputs": [
    {
     "data": {
      "text/plain": [
       "0     -5.0\n",
       "1     10.0\n",
       "2     33.0\n",
       "3     -1.0\n",
       "4     23.0\n",
       "      ... \n",
       "95    45.0\n",
       "96    35.0\n",
       "97     1.0\n",
       "98    -2.0\n",
       "99    47.0\n",
       "Name: cantidad, Length: 100, dtype: float64"
      ]
     },
     "execution_count": 157,
     "metadata": {},
     "output_type": "execute_result"
    }
   ],
   "source": [
    "median = df['cantidad'].median()\n",
    "df['cantidad'] = df['cantidad'].fillna(median)\n",
    "df['cantidad']"
   ]
  },
  {
   "cell_type": "markdown",
   "metadata": {},
   "source": [
    "- Elimina las filas con valores nulos en `producto`."
   ]
  },
  {
   "cell_type": "code",
   "execution_count": 158,
   "metadata": {},
   "outputs": [
    {
     "data": {
      "text/html": [
       "<div>\n",
       "<style scoped>\n",
       "    .dataframe tbody tr th:only-of-type {\n",
       "        vertical-align: middle;\n",
       "    }\n",
       "\n",
       "    .dataframe tbody tr th {\n",
       "        vertical-align: top;\n",
       "    }\n",
       "\n",
       "    .dataframe thead th {\n",
       "        text-align: right;\n",
       "    }\n",
       "</style>\n",
       "<table border=\"1\" class=\"dataframe\">\n",
       "  <thead>\n",
       "    <tr style=\"text-align: right;\">\n",
       "      <th></th>\n",
       "      <th>Unnamed: 0</th>\n",
       "      <th>fecha</th>\n",
       "      <th>producto</th>\n",
       "      <th>categoria</th>\n",
       "      <th>precio</th>\n",
       "      <th>cantidad</th>\n",
       "      <th>vendedor</th>\n",
       "      <th>ciudad</th>\n",
       "      <th>rating</th>\n",
       "      <th>comentarios</th>\n",
       "    </tr>\n",
       "  </thead>\n",
       "  <tbody>\n",
       "    <tr>\n",
       "      <th>0</th>\n",
       "      <td>0</td>\n",
       "      <td>NaN</td>\n",
       "      <td>Auriculares</td>\n",
       "      <td>ELECTRONICA</td>\n",
       "      <td>672.699356</td>\n",
       "      <td>-5.0</td>\n",
       "      <td>Juan</td>\n",
       "      <td>BARCELONA</td>\n",
       "      <td>0.381071</td>\n",
       "      <td>Malo</td>\n",
       "    </tr>\n",
       "    <tr>\n",
       "      <th>1</th>\n",
       "      <td>1</td>\n",
       "      <td>2023-02-05 20:00:00</td>\n",
       "      <td>Monitor</td>\n",
       "      <td>Electrónica</td>\n",
       "      <td>325.415637</td>\n",
       "      <td>10.0</td>\n",
       "      <td>JUAN</td>\n",
       "      <td>Madrid</td>\n",
       "      <td>0.220931</td>\n",
       "      <td>NaN</td>\n",
       "    </tr>\n",
       "    <tr>\n",
       "      <th>2</th>\n",
       "      <td>2</td>\n",
       "      <td>2023-08-13 14:00:00</td>\n",
       "      <td>laptop</td>\n",
       "      <td>Electronca</td>\n",
       "      <td>630.883763</td>\n",
       "      <td>33.0</td>\n",
       "      <td>Janise</td>\n",
       "      <td>Madrid</td>\n",
       "      <td>0.803113</td>\n",
       "      <td></td>\n",
       "    </tr>\n",
       "    <tr>\n",
       "      <th>3</th>\n",
       "      <td>3</td>\n",
       "      <td>2023-08-05 07:00:00</td>\n",
       "      <td>laptop</td>\n",
       "      <td>Electrónica</td>\n",
       "      <td>981.003572</td>\n",
       "      <td>-1.0</td>\n",
       "      <td>Ana</td>\n",
       "      <td>Valencia</td>\n",
       "      <td>0.082032</td>\n",
       "      <td>Bueno</td>\n",
       "    </tr>\n",
       "    <tr>\n",
       "      <th>5</th>\n",
       "      <td>5</td>\n",
       "      <td>2023-09-19 01:00:00</td>\n",
       "      <td>laptop</td>\n",
       "      <td>ELECTRONICA</td>\n",
       "      <td>NaN</td>\n",
       "      <td>23.0</td>\n",
       "      <td>Ana</td>\n",
       "      <td>madrid</td>\n",
       "      <td>4.150286</td>\n",
       "      <td>Bueno</td>\n",
       "    </tr>\n",
       "  </tbody>\n",
       "</table>\n",
       "</div>"
      ],
      "text/plain": [
       "   Unnamed: 0                fecha     producto    categoria      precio  \\\n",
       "0           0                  NaN  Auriculares  ELECTRONICA  672.699356   \n",
       "1           1  2023-02-05 20:00:00      Monitor  Electrónica  325.415637   \n",
       "2           2  2023-08-13 14:00:00       laptop   Electronca  630.883763   \n",
       "3           3  2023-08-05 07:00:00       laptop  Electrónica  981.003572   \n",
       "5           5  2023-09-19 01:00:00       laptop  ELECTRONICA         NaN   \n",
       "\n",
       "   cantidad  vendedor     ciudad    rating comentarios  \n",
       "0      -5.0      Juan  BARCELONA  0.381071        Malo  \n",
       "1      10.0      JUAN     Madrid  0.220931         NaN  \n",
       "2      33.0    Janise     Madrid  0.803113              \n",
       "3      -1.0     Ana     Valencia  0.082032       Bueno  \n",
       "5      23.0     Ana      madrid   4.150286       Bueno  "
      ]
     },
     "execution_count": 158,
     "metadata": {},
     "output_type": "execute_result"
    }
   ],
   "source": [
    "df = df.dropna(subset='producto')\n",
    "df.head()"
   ]
  },
  {
   "cell_type": "markdown",
   "metadata": {},
   "source": [
    "### Ejercicio 4: Renombrar Columnas ✅"
   ]
  },
  {
   "cell_type": "markdown",
   "metadata": {},
   "source": [
    "- Cambia el nombre de `Unnamed: 0` a `id`."
   ]
  },
  {
   "cell_type": "code",
   "execution_count": 159,
   "metadata": {},
   "outputs": [
    {
     "data": {
      "text/html": [
       "<div>\n",
       "<style scoped>\n",
       "    .dataframe tbody tr th:only-of-type {\n",
       "        vertical-align: middle;\n",
       "    }\n",
       "\n",
       "    .dataframe tbody tr th {\n",
       "        vertical-align: top;\n",
       "    }\n",
       "\n",
       "    .dataframe thead th {\n",
       "        text-align: right;\n",
       "    }\n",
       "</style>\n",
       "<table border=\"1\" class=\"dataframe\">\n",
       "  <thead>\n",
       "    <tr style=\"text-align: right;\">\n",
       "      <th></th>\n",
       "      <th>fecha</th>\n",
       "      <th>producto</th>\n",
       "      <th>categoria</th>\n",
       "      <th>precio</th>\n",
       "      <th>cantidad</th>\n",
       "      <th>vendedor</th>\n",
       "      <th>ciudad</th>\n",
       "      <th>rating</th>\n",
       "      <th>comentarios</th>\n",
       "    </tr>\n",
       "    <tr>\n",
       "      <th>id</th>\n",
       "      <th></th>\n",
       "      <th></th>\n",
       "      <th></th>\n",
       "      <th></th>\n",
       "      <th></th>\n",
       "      <th></th>\n",
       "      <th></th>\n",
       "      <th></th>\n",
       "      <th></th>\n",
       "    </tr>\n",
       "  </thead>\n",
       "  <tbody>\n",
       "    <tr>\n",
       "      <th>0</th>\n",
       "      <td>NaN</td>\n",
       "      <td>Auriculares</td>\n",
       "      <td>ELECTRONICA</td>\n",
       "      <td>672.699356</td>\n",
       "      <td>-5.0</td>\n",
       "      <td>Juan</td>\n",
       "      <td>BARCELONA</td>\n",
       "      <td>0.381071</td>\n",
       "      <td>Malo</td>\n",
       "    </tr>\n",
       "    <tr>\n",
       "      <th>1</th>\n",
       "      <td>2023-02-05 20:00:00</td>\n",
       "      <td>Monitor</td>\n",
       "      <td>Electrónica</td>\n",
       "      <td>325.415637</td>\n",
       "      <td>10.0</td>\n",
       "      <td>JUAN</td>\n",
       "      <td>Madrid</td>\n",
       "      <td>0.220931</td>\n",
       "      <td>NaN</td>\n",
       "    </tr>\n",
       "    <tr>\n",
       "      <th>2</th>\n",
       "      <td>2023-08-13 14:00:00</td>\n",
       "      <td>laptop</td>\n",
       "      <td>Electronca</td>\n",
       "      <td>630.883763</td>\n",
       "      <td>33.0</td>\n",
       "      <td>Janise</td>\n",
       "      <td>Madrid</td>\n",
       "      <td>0.803113</td>\n",
       "      <td></td>\n",
       "    </tr>\n",
       "    <tr>\n",
       "      <th>3</th>\n",
       "      <td>2023-08-05 07:00:00</td>\n",
       "      <td>laptop</td>\n",
       "      <td>Electrónica</td>\n",
       "      <td>981.003572</td>\n",
       "      <td>-1.0</td>\n",
       "      <td>Ana</td>\n",
       "      <td>Valencia</td>\n",
       "      <td>0.082032</td>\n",
       "      <td>Bueno</td>\n",
       "    </tr>\n",
       "    <tr>\n",
       "      <th>5</th>\n",
       "      <td>2023-09-19 01:00:00</td>\n",
       "      <td>laptop</td>\n",
       "      <td>ELECTRONICA</td>\n",
       "      <td>NaN</td>\n",
       "      <td>23.0</td>\n",
       "      <td>Ana</td>\n",
       "      <td>madrid</td>\n",
       "      <td>4.150286</td>\n",
       "      <td>Bueno</td>\n",
       "    </tr>\n",
       "  </tbody>\n",
       "</table>\n",
       "</div>"
      ],
      "text/plain": [
       "                  fecha     producto    categoria      precio  cantidad  \\\n",
       "id                                                                        \n",
       "0                   NaN  Auriculares  ELECTRONICA  672.699356      -5.0   \n",
       "1   2023-02-05 20:00:00      Monitor  Electrónica  325.415637      10.0   \n",
       "2   2023-08-13 14:00:00       laptop   Electronca  630.883763      33.0   \n",
       "3   2023-08-05 07:00:00       laptop  Electrónica  981.003572      -1.0   \n",
       "5   2023-09-19 01:00:00       laptop  ELECTRONICA         NaN      23.0   \n",
       "\n",
       "    vendedor     ciudad    rating comentarios  \n",
       "id                                             \n",
       "0       Juan  BARCELONA  0.381071        Malo  \n",
       "1       JUAN     Madrid  0.220931         NaN  \n",
       "2     Janise     Madrid  0.803113              \n",
       "3      Ana     Valencia  0.082032       Bueno  \n",
       "5      Ana      madrid   4.150286       Bueno  "
      ]
     },
     "execution_count": 159,
     "metadata": {},
     "output_type": "execute_result"
    }
   ],
   "source": [
    "df['id'] = df['Unnamed: 0']\n",
    "df = df.set_index('id')\n",
    "df = df.drop(columns=['Unnamed: 0'])\n",
    "df.head()"
   ]
  },
  {
   "cell_type": "markdown",
   "metadata": {},
   "source": [
    "- Haz que todos los nombres de columnas estén en minúsculas."
   ]
  },
  {
   "cell_type": "code",
   "execution_count": 160,
   "metadata": {},
   "outputs": [
    {
     "data": {
      "text/html": [
       "<div>\n",
       "<style scoped>\n",
       "    .dataframe tbody tr th:only-of-type {\n",
       "        vertical-align: middle;\n",
       "    }\n",
       "\n",
       "    .dataframe tbody tr th {\n",
       "        vertical-align: top;\n",
       "    }\n",
       "\n",
       "    .dataframe thead th {\n",
       "        text-align: right;\n",
       "    }\n",
       "</style>\n",
       "<table border=\"1\" class=\"dataframe\">\n",
       "  <thead>\n",
       "    <tr style=\"text-align: right;\">\n",
       "      <th></th>\n",
       "      <th>fecha</th>\n",
       "      <th>producto</th>\n",
       "      <th>categoria</th>\n",
       "      <th>precio</th>\n",
       "      <th>cantidad</th>\n",
       "      <th>vendedor</th>\n",
       "      <th>ciudad</th>\n",
       "      <th>rating</th>\n",
       "      <th>comentarios</th>\n",
       "    </tr>\n",
       "    <tr>\n",
       "      <th>id</th>\n",
       "      <th></th>\n",
       "      <th></th>\n",
       "      <th></th>\n",
       "      <th></th>\n",
       "      <th></th>\n",
       "      <th></th>\n",
       "      <th></th>\n",
       "      <th></th>\n",
       "      <th></th>\n",
       "    </tr>\n",
       "  </thead>\n",
       "  <tbody>\n",
       "    <tr>\n",
       "      <th>0</th>\n",
       "      <td>NaN</td>\n",
       "      <td>Auriculares</td>\n",
       "      <td>ELECTRONICA</td>\n",
       "      <td>672.699356</td>\n",
       "      <td>-5.0</td>\n",
       "      <td>Juan</td>\n",
       "      <td>BARCELONA</td>\n",
       "      <td>0.381071</td>\n",
       "      <td>Malo</td>\n",
       "    </tr>\n",
       "    <tr>\n",
       "      <th>1</th>\n",
       "      <td>2023-02-05 20:00:00</td>\n",
       "      <td>Monitor</td>\n",
       "      <td>Electrónica</td>\n",
       "      <td>325.415637</td>\n",
       "      <td>10.0</td>\n",
       "      <td>JUAN</td>\n",
       "      <td>Madrid</td>\n",
       "      <td>0.220931</td>\n",
       "      <td>NaN</td>\n",
       "    </tr>\n",
       "  </tbody>\n",
       "</table>\n",
       "</div>"
      ],
      "text/plain": [
       "                  fecha     producto    categoria      precio  cantidad  \\\n",
       "id                                                                        \n",
       "0                   NaN  Auriculares  ELECTRONICA  672.699356      -5.0   \n",
       "1   2023-02-05 20:00:00      Monitor  Electrónica  325.415637      10.0   \n",
       "\n",
       "   vendedor     ciudad    rating comentarios  \n",
       "id                                            \n",
       "0      Juan  BARCELONA  0.381071        Malo  \n",
       "1      JUAN     Madrid  0.220931         NaN  "
      ]
     },
     "execution_count": 160,
     "metadata": {},
     "output_type": "execute_result"
    }
   ],
   "source": [
    "df = df.rename(lambda x: x.lower(), axis='columns')\n",
    "df.head(2)"
   ]
  },
  {
   "cell_type": "markdown",
   "metadata": {},
   "source": [
    "- Renombra `categoria` a `tipo_producto`."
   ]
  },
  {
   "cell_type": "code",
   "execution_count": 161,
   "metadata": {},
   "outputs": [
    {
     "data": {
      "text/html": [
       "<div>\n",
       "<style scoped>\n",
       "    .dataframe tbody tr th:only-of-type {\n",
       "        vertical-align: middle;\n",
       "    }\n",
       "\n",
       "    .dataframe tbody tr th {\n",
       "        vertical-align: top;\n",
       "    }\n",
       "\n",
       "    .dataframe thead th {\n",
       "        text-align: right;\n",
       "    }\n",
       "</style>\n",
       "<table border=\"1\" class=\"dataframe\">\n",
       "  <thead>\n",
       "    <tr style=\"text-align: right;\">\n",
       "      <th></th>\n",
       "      <th>fecha</th>\n",
       "      <th>producto</th>\n",
       "      <th>tipo_producto</th>\n",
       "      <th>precio</th>\n",
       "      <th>cantidad</th>\n",
       "      <th>vendedor</th>\n",
       "      <th>ciudad</th>\n",
       "      <th>rating</th>\n",
       "      <th>comentarios</th>\n",
       "    </tr>\n",
       "    <tr>\n",
       "      <th>id</th>\n",
       "      <th></th>\n",
       "      <th></th>\n",
       "      <th></th>\n",
       "      <th></th>\n",
       "      <th></th>\n",
       "      <th></th>\n",
       "      <th></th>\n",
       "      <th></th>\n",
       "      <th></th>\n",
       "    </tr>\n",
       "  </thead>\n",
       "  <tbody>\n",
       "    <tr>\n",
       "      <th>0</th>\n",
       "      <td>NaN</td>\n",
       "      <td>Auriculares</td>\n",
       "      <td>ELECTRONICA</td>\n",
       "      <td>672.699356</td>\n",
       "      <td>-5.0</td>\n",
       "      <td>Juan</td>\n",
       "      <td>BARCELONA</td>\n",
       "      <td>0.381071</td>\n",
       "      <td>Malo</td>\n",
       "    </tr>\n",
       "    <tr>\n",
       "      <th>1</th>\n",
       "      <td>2023-02-05 20:00:00</td>\n",
       "      <td>Monitor</td>\n",
       "      <td>Electrónica</td>\n",
       "      <td>325.415637</td>\n",
       "      <td>10.0</td>\n",
       "      <td>JUAN</td>\n",
       "      <td>Madrid</td>\n",
       "      <td>0.220931</td>\n",
       "      <td>NaN</td>\n",
       "    </tr>\n",
       "  </tbody>\n",
       "</table>\n",
       "</div>"
      ],
      "text/plain": [
       "                  fecha     producto tipo_producto      precio  cantidad  \\\n",
       "id                                                                         \n",
       "0                   NaN  Auriculares   ELECTRONICA  672.699356      -5.0   \n",
       "1   2023-02-05 20:00:00      Monitor   Electrónica  325.415637      10.0   \n",
       "\n",
       "   vendedor     ciudad    rating comentarios  \n",
       "id                                            \n",
       "0      Juan  BARCELONA  0.381071        Malo  \n",
       "1      JUAN     Madrid  0.220931         NaN  "
      ]
     },
     "execution_count": 161,
     "metadata": {},
     "output_type": "execute_result"
    }
   ],
   "source": [
    "df = df.rename(columns={ 'categoria': 'tipo_producto' })\n",
    "df.head(2)"
   ]
  }
 ],
 "metadata": {
  "kernelspec": {
   "display_name": "Python 3",
   "language": "python",
   "name": "python3"
  },
  "language_info": {
   "codemirror_mode": {
    "name": "ipython",
    "version": 3
   },
   "file_extension": ".py",
   "mimetype": "text/x-python",
   "name": "python",
   "nbconvert_exporter": "python",
   "pygments_lexer": "ipython3",
   "version": "3.10.12"
  }
 },
 "nbformat": 4,
 "nbformat_minor": 2
}
