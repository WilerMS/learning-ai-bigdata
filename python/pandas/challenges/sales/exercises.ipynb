{
 "cells": [
  {
   "cell_type": "code",
   "execution_count": 3,
   "metadata": {},
   "outputs": [],
   "source": [
    "import pandas as pd # type: ignore"
   ]
  },
  {
   "cell_type": "markdown",
   "metadata": {},
   "source": [
    "# EJERCICIO 1: Carga y Exploración del Dataset\n",
    "  - Carga el dataset en un DataFrame.\n",
    "  - Muestra las primeras 2 filas del dataset.\n",
    "  - Identifica el número de filas y columnas.\n",
    "  - Observa los tipos de datos en cada columna."
   ]
  },
  {
   "cell_type": "code",
   "execution_count": 37,
   "metadata": {},
   "outputs": [],
   "source": [
    "# Carga el dataset en un DataFrame.\n",
    "df = pd.read_csv('sales.csv')"
   ]
  },
  {
   "cell_type": "code",
   "execution_count": 39,
   "metadata": {},
   "outputs": [
    {
     "data": {
      "text/html": [
       "<div>\n",
       "<style scoped>\n",
       "    .dataframe tbody tr th:only-of-type {\n",
       "        vertical-align: middle;\n",
       "    }\n",
       "\n",
       "    .dataframe tbody tr th {\n",
       "        vertical-align: top;\n",
       "    }\n",
       "\n",
       "    .dataframe thead th {\n",
       "        text-align: right;\n",
       "    }\n",
       "</style>\n",
       "<table border=\"1\" class=\"dataframe\">\n",
       "  <thead>\n",
       "    <tr style=\"text-align: right;\">\n",
       "      <th></th>\n",
       "      <th>Unnamed: 0</th>\n",
       "      <th>fecha</th>\n",
       "      <th>producto</th>\n",
       "      <th>categoria</th>\n",
       "      <th>precio</th>\n",
       "      <th>cantidad</th>\n",
       "      <th>vendedor</th>\n",
       "      <th>ciudad</th>\n",
       "      <th>rating</th>\n",
       "      <th>comentarios</th>\n",
       "    </tr>\n",
       "  </thead>\n",
       "  <tbody>\n",
       "    <tr>\n",
       "      <th>0</th>\n",
       "      <td>0</td>\n",
       "      <td>NaN</td>\n",
       "      <td>Auriculares</td>\n",
       "      <td>ELECTRONICA</td>\n",
       "      <td>672.699356</td>\n",
       "      <td>-5.0</td>\n",
       "      <td>Juan</td>\n",
       "      <td>BARCELONA</td>\n",
       "      <td>0.381071</td>\n",
       "      <td>Malo</td>\n",
       "    </tr>\n",
       "    <tr>\n",
       "      <th>1</th>\n",
       "      <td>1</td>\n",
       "      <td>2023-02-05 20:00:00</td>\n",
       "      <td>Monitor</td>\n",
       "      <td>Electrónica</td>\n",
       "      <td>325.415637</td>\n",
       "      <td>10.0</td>\n",
       "      <td>JUAN</td>\n",
       "      <td>Madrid</td>\n",
       "      <td>0.220931</td>\n",
       "      <td>NaN</td>\n",
       "    </tr>\n",
       "  </tbody>\n",
       "</table>\n",
       "</div>"
      ],
      "text/plain": [
       "   Unnamed: 0                fecha     producto    categoria      precio  \\\n",
       "0           0                  NaN  Auriculares  ELECTRONICA  672.699356   \n",
       "1           1  2023-02-05 20:00:00      Monitor  Electrónica  325.415637   \n",
       "\n",
       "   cantidad vendedor     ciudad    rating comentarios  \n",
       "0      -5.0     Juan  BARCELONA  0.381071        Malo  \n",
       "1      10.0     JUAN     Madrid  0.220931         NaN  "
      ]
     },
     "execution_count": 39,
     "metadata": {},
     "output_type": "execute_result"
    }
   ],
   "source": [
    "# Muestra las primeras 2 filas del dataset.\n",
    "df.head(2)"
   ]
  },
  {
   "cell_type": "code",
   "execution_count": 40,
   "metadata": {},
   "outputs": [
    {
     "data": {
      "text/plain": [
       "(100, 10)"
      ]
     },
     "execution_count": 40,
     "metadata": {},
     "output_type": "execute_result"
    }
   ],
   "source": [
    "# Identifica el número de filas y columnas.\n",
    "df.shape"
   ]
  },
  {
   "cell_type": "code",
   "execution_count": 42,
   "metadata": {},
   "outputs": [
    {
     "data": {
      "text/plain": [
       "Unnamed: 0       int64\n",
       "fecha           object\n",
       "producto        object\n",
       "categoria       object\n",
       "precio         float64\n",
       "cantidad       float64\n",
       "vendedor        object\n",
       "ciudad          object\n",
       "rating         float64\n",
       "comentarios     object\n",
       "dtype: object"
      ]
     },
     "execution_count": 42,
     "metadata": {},
     "output_type": "execute_result"
    }
   ],
   "source": [
    "# Observa los tipos de datos en cada columna.\n",
    "df.dtypes"
   ]
  },
  {
   "cell_type": "markdown",
   "metadata": {},
   "source": [
    "# EJERCICIO 2: Resumen Estadístico\n",
    "  - Obtén un resumen estadístico de las columnas numéricas.\n",
    "  - Genera un resumen estadístico solo para las columnas categóricas."
   ]
  },
  {
   "cell_type": "code",
   "execution_count": null,
   "metadata": {},
   "outputs": [],
   "source": []
  }
 ],
 "metadata": {
  "kernelspec": {
   "display_name": "Python 3",
   "language": "python",
   "name": "python3"
  },
  "language_info": {
   "codemirror_mode": {
    "name": "ipython",
    "version": 3
   },
   "file_extension": ".py",
   "mimetype": "text/x-python",
   "name": "python",
   "nbconvert_exporter": "python",
   "pygments_lexer": "ipython3",
   "version": "3.10.12"
  }
 },
 "nbformat": 4,
 "nbformat_minor": 2
}
